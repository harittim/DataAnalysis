{
  "cells": [
    {
      "cell_type": "code",
      "source": [
        "goog = False\n",
        "if goog:\n",
        "  from google.colab import drive\n",
        "  drive.mount(\"/content/drive\")\n",
        "  base = \"/content/drive/MyDrive/LoanApprovalPrediction/\"\n",
        "else:\n",
        "  base = \"0.Practice/Hotel_rating/\""
      ],
      "metadata": {
        "id": "HNw6iiAzB1KK"
      },
      "id": "HNw6iiAzB1KK",
      "execution_count": null,
      "outputs": []
    },
    {
      "cell_type": "code",
      "execution_count": null,
      "id": "d6ec069d-64c3-4c09-99eb-0b266e9e334d",
      "metadata": {
        "colab": {
          "base_uri": "https://localhost:8080/"
        },
        "id": "d6ec069d-64c3-4c09-99eb-0b266e9e334d",
        "outputId": "232e7c64-ea60-49f1-915f-b49fd44e10ca"
      },
      "outputs": [
        {
          "output_type": "stream",
          "name": "stdout",
          "text": [
            "8 4\n"
          ]
        },
        {
          "output_type": "execute_result",
          "data": {
            "text/plain": [
              "0        0\n",
              "1        0\n",
              "2        0\n",
              "3        0\n",
              "4        0\n",
              "        ..\n",
              "58640    0\n",
              "58641    1\n",
              "58642    1\n",
              "58643    0\n",
              "58644    0\n",
              "Name: loan_status, Length: 58645, dtype: int64"
            ]
          },
          "metadata": {},
          "execution_count": 3
        }
      ],
      "source": [
        "import pandas as pd\n",
        "from sklearn.model_selection import train_test_split\n",
        "\n",
        "\n",
        "X = pd.read_csv(base + \"train.csv\")\n",
        "y = X.pop(\"loan_status\")\n",
        "X_train, X_valid, y_train, y_valid = train_test_split(X, y, train_size=0.8, random_state = 42)\n",
        "\n",
        "X_test = pd.read_csv( base + \"test.csv\")\n",
        "\n",
        "categorical_cols = [col for col in X.columns if X[col].dtype == \"object\"]\n",
        "num_cols = [col for col in X.columns if X[col].dtype in  [ \"float64\", \"int64\"]]\n",
        "print(len(num_cols), len(categorical_cols))"
      ]
    },
    {
      "cell_type": "code",
      "execution_count": null,
      "id": "7bd1427a-5022-4726-9554-17dfe983e991",
      "metadata": {
        "scrolled": true,
        "id": "7bd1427a-5022-4726-9554-17dfe983e991"
      },
      "outputs": [],
      "source": [
        "from sklearn.pipeline import Pipeline\n",
        "from sklearn.svm import SVC\n",
        "from sklearn.preprocessing import OneHotEncoder\n",
        "from sklearn.preprocessing import StandardScaler\n",
        "from sklearn.compose import ColumnTransformer\n",
        "from sklearn.linear_model import LogisticRegression\n",
        "from sklearn.metrics import roc_auc_score\n"
      ]
    },
    {
      "cell_type": "code",
      "execution_count": null,
      "id": "5396573e-3461-45dc-84ee-68bbd1b8fd7b",
      "metadata": {
        "id": "5396573e-3461-45dc-84ee-68bbd1b8fd7b"
      },
      "outputs": [],
      "source": [
        "preprocessor = ColumnTransformer(\n",
        "    transformers=[('cat', OneHotEncoder(handle_unknown='ignore'), categorical_cols), ('num', StandardScaler(), num_cols)])\n",
        "\n",
        "my_pipeline = Pipeline(steps=[('preprocessor', preprocessor),\n",
        "                              ('model', SVC())\n",
        "                             ])"
      ]
    },
    {
      "cell_type": "code",
      "execution_count": null,
      "id": "2f7da218-5e7f-49cc-9033-ca9e18dd2101",
      "metadata": {
        "id": "2f7da218-5e7f-49cc-9033-ca9e18dd2101"
      },
      "outputs": [],
      "source": [
        "my_pipeline.fit(X_train, y_train)\n",
        "print(\"baseline:\", roc_auc_score(my_pipeline.predict(X_valid), y_valid))"
      ]
    },
    {
      "cell_type": "code",
      "execution_count": null,
      "id": "df90d6f2-e3e0-4353-adee-01a52ef38684",
      "metadata": {
        "id": "df90d6f2-e3e0-4353-adee-01a52ef38684"
      },
      "outputs": [],
      "source": [
        "X_test[\"loan_status\"] = my_pipeline.predict(X_test)\n",
        "\n",
        "X_test[[\"id\", \"loan_status\"]].to_csv(base + \"SVC_prediction.csv\", index = False)"
      ]
    },
    {
      "cell_type": "code",
      "execution_count": null,
      "id": "c75790a9-9bb3-46b1-be21-46d9c2dbb1f4",
      "metadata": {
        "id": "c75790a9-9bb3-46b1-be21-46d9c2dbb1f4"
      },
      "outputs": [],
      "source": [
        "#valid base line = 0.93\n"
      ]
    },
    {
      "cell_type": "code",
      "source": [
        "import torch\n",
        "import torch.nn as nn\n",
        "from torch.nn import BCELoss\n",
        "from torch.optim import Adam\n",
        "import matplotlib.pyplot as plt\n",
        "import numpy as np\n",
        "\n",
        "class FeedForwardNN(nn.Module):\n",
        "  def __init__(self, in_features, hiden_layer = 128):\n",
        "    super().__init__()\n",
        "    self.ffn = nn.Sequential(nn.Linear(in_features, hiden_layer), nn.ReLU(), nn.Linear(hiden_layer, hiden_layer), nn.ReLU())\n",
        "    self.head = nn.Sequential(nn.Linear(in_features + hiden_layer, 1), nn.Sigmoid())\n",
        "  def forward(self,x):\n",
        "    return torch.squeeze(self.head(torch.concat([x, self.ffn(x)], axis=1)))\n",
        "X_train_tens = torch.tensor(preprocessor.fit_transform(X_train)).float()\n",
        "y_train_tens = torch.tensor(y_train.values).float()\n",
        "X_valid_tens = torch.tensor(preprocessor.transform(X_valid)).float()\n",
        "y_valid_tens = torch.tensor(y_valid.values).float()\n",
        "\n",
        "\n",
        "model = FeedForwardNN(X_train_tens.shape[1])\n",
        "optimizer = Adam(model.parameters(), lr = 0.001)\n",
        "\n",
        "\n",
        "\n",
        "\n",
        "train_stats = []\n",
        "valid_stats = []\n",
        "epochs = []\n",
        "pos_weight = torch.tensor([8.0])  # Weight for the positive class\n",
        "neg_weight = torch.tensor([1.0])  # Weight for the negative class\n",
        "\n",
        "weights = torch.where(y_train_tens == 1, pos_weight, neg_weight)\n",
        "for epoch in range(300):\n",
        "  loss_fn = BCELoss( weight = weights)\n",
        "  model.train()\n",
        "  optimizer.zero_grad()\n",
        "  loss = loss_fn(model(X_train_tens), y_train_tens)\n",
        "  loss.backward()\n",
        "  optimizer.step()\n",
        "\n",
        "\n",
        "\n",
        "  loss_fn = BCELoss()\n",
        "  train_stats.append(loss.item())\n",
        "  model.eval()\n",
        "  with torch.no_grad():\n",
        "    loss = loss_fn(model(X_valid_tens), y_valid_tens)\n",
        "    valid_stats.append(loss.item())\n",
        "  epochs.append(epoch)\n",
        "\n",
        "plt.plot(epochs, train_stats, label=\"train\")\n",
        "plt.plot(epochs, valid_stats, label=\"valid\")\n",
        "plt.xlabel(\"epochs\")\n",
        "plt.ylabel(\"BSELoss\")\n",
        "plt.legend()\n",
        "plt.show()\n",
        "\n",
        "\n"
      ],
      "metadata": {
        "id": "IQiVOwVLDCpt",
        "colab": {
          "base_uri": "https://localhost:8080/",
          "height": 449
        },
        "outputId": "54f606ce-9762-4515-9355-036b4dc06db7"
      },
      "id": "IQiVOwVLDCpt",
      "execution_count": null,
      "outputs": [
        {
          "output_type": "display_data",
          "data": {
            "text/plain": [
              "<Figure size 640x480 with 1 Axes>"
            ],
            "image/png": "[encoded data removed]"
          },
          "metadata": {}
        }
      ]
    },
    {
      "cell_type": "code",
      "source": [
        "X_test_tens = torch.tensor(preprocessor.fit_transform(X_test)).float()\n",
        "with torch.no_grad():\n",
        "  y_test_tens = model(X_test_tens)\n",
        "X_test[\"loan_status\"] = y_test_tens\n",
        "X_test[[\"id\", \"loan_status\"]].to_csv(base + \"NN_prediction.csv\", index = False)"
      ],
      "metadata": {
        "id": "GbBwT1VgoQY3"
      },
      "id": "GbBwT1VgoQY3",
      "execution_count": null,
      "outputs": []
    }
  ],
  "metadata": {
    "kernelspec": {
      "display_name": "Python 3 (ipykernel)",
      "language": "python",
      "name": "python3"
    },
    "language_info": {
      "codemirror_mode": {
        "name": "ipython",
        "version": 3
      },
      "file_extension": ".py",
      "mimetype": "text/x-python",
      "name": "python",
      "nbconvert_exporter": "python",
      "pygments_lexer": "ipython3",
      "version": "3.12.0"
    },
    "colab": {
      "provenance": []
    }
  },
  "nbformat": 4,
  "nbformat_minor": 5
}
