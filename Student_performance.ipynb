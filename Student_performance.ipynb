{
 "cells": [
  {
   "cell_type": "code",
   "execution_count": 130,
   "id": "1027cab2-9ccd-4910-a608-1626f1c4649b",
   "metadata": {},
   "outputs": [],
   "source": [
    "import pandas as pd\n",
    "from sklearn.model_selection import train_test_split\n",
    "\n",
    "\n",
    "X = pd.read_csv(\"Student_Performance.csv\")"
   ]
  },
  {
   "cell_type": "code",
   "execution_count": 131,
   "id": "d79b18f0-2264-4004-82f6-245f358ef912",
   "metadata": {},
   "outputs": [
    {
     "data": {
      "text/html": [
       "<div>\n",
       "<style scoped>\n",
       "    .dataframe tbody tr th:only-of-type {\n",
       "        vertical-align: middle;\n",
       "    }\n",
       "\n",
       "    .dataframe tbody tr th {\n",
       "        vertical-align: top;\n",
       "    }\n",
       "\n",
       "    .dataframe thead th {\n",
       "        text-align: right;\n",
       "    }\n",
       "</style>\n",
       "<table border=\"1\" class=\"dataframe\">\n",
       "  <thead>\n",
       "    <tr style=\"text-align: right;\">\n",
       "      <th></th>\n",
       "      <th>Hours Studied</th>\n",
       "      <th>Previous Scores</th>\n",
       "      <th>Extracurricular Activities</th>\n",
       "      <th>Sleep Hours</th>\n",
       "      <th>Sample Question Papers Practiced</th>\n",
       "      <th>Performance Index</th>\n",
       "    </tr>\n",
       "  </thead>\n",
       "  <tbody>\n",
       "    <tr>\n",
       "      <th>0</th>\n",
       "      <td>7</td>\n",
       "      <td>99</td>\n",
       "      <td>Yes</td>\n",
       "      <td>9</td>\n",
       "      <td>1</td>\n",
       "      <td>91.0</td>\n",
       "    </tr>\n",
       "    <tr>\n",
       "      <th>1</th>\n",
       "      <td>4</td>\n",
       "      <td>82</td>\n",
       "      <td>No</td>\n",
       "      <td>4</td>\n",
       "      <td>2</td>\n",
       "      <td>65.0</td>\n",
       "    </tr>\n",
       "    <tr>\n",
       "      <th>2</th>\n",
       "      <td>8</td>\n",
       "      <td>51</td>\n",
       "      <td>Yes</td>\n",
       "      <td>7</td>\n",
       "      <td>2</td>\n",
       "      <td>45.0</td>\n",
       "    </tr>\n",
       "    <tr>\n",
       "      <th>3</th>\n",
       "      <td>5</td>\n",
       "      <td>52</td>\n",
       "      <td>Yes</td>\n",
       "      <td>5</td>\n",
       "      <td>2</td>\n",
       "      <td>36.0</td>\n",
       "    </tr>\n",
       "    <tr>\n",
       "      <th>4</th>\n",
       "      <td>7</td>\n",
       "      <td>75</td>\n",
       "      <td>No</td>\n",
       "      <td>8</td>\n",
       "      <td>5</td>\n",
       "      <td>66.0</td>\n",
       "    </tr>\n",
       "  </tbody>\n",
       "</table>\n",
       "</div>"
      ],
      "text/plain": [
       "   Hours Studied  Previous Scores Extracurricular Activities  Sleep Hours  \\\n",
       "0              7               99                        Yes            9   \n",
       "1              4               82                         No            4   \n",
       "2              8               51                        Yes            7   \n",
       "3              5               52                        Yes            5   \n",
       "4              7               75                         No            8   \n",
       "\n",
       "   Sample Question Papers Practiced  Performance Index  \n",
       "0                                 1               91.0  \n",
       "1                                 2               65.0  \n",
       "2                                 2               45.0  \n",
       "3                                 2               36.0  \n",
       "4                                 5               66.0  "
      ]
     },
     "execution_count": 131,
     "metadata": {},
     "output_type": "execute_result"
    }
   ],
   "source": [
    "X.head()"
   ]
  },
  {
   "cell_type": "code",
   "execution_count": 132,
   "id": "804747a1-71c4-4b27-ac32-cdd800cd48ca",
   "metadata": {},
   "outputs": [
    {
     "data": {
      "text/html": [
       "<div>\n",
       "<style scoped>\n",
       "    .dataframe tbody tr th:only-of-type {\n",
       "        vertical-align: middle;\n",
       "    }\n",
       "\n",
       "    .dataframe tbody tr th {\n",
       "        vertical-align: top;\n",
       "    }\n",
       "\n",
       "    .dataframe thead th {\n",
       "        text-align: right;\n",
       "    }\n",
       "</style>\n",
       "<table border=\"1\" class=\"dataframe\">\n",
       "  <thead>\n",
       "    <tr style=\"text-align: right;\">\n",
       "      <th></th>\n",
       "      <th>Hours Studied</th>\n",
       "      <th>Previous Scores</th>\n",
       "      <th>Extracurricular Activities</th>\n",
       "      <th>Sleep Hours</th>\n",
       "      <th>Sample Question Papers Practiced</th>\n",
       "      <th>Performance Index</th>\n",
       "    </tr>\n",
       "  </thead>\n",
       "  <tbody>\n",
       "    <tr>\n",
       "      <th>count</th>\n",
       "      <td>10000.000000</td>\n",
       "      <td>10000.000000</td>\n",
       "      <td>10000.000000</td>\n",
       "      <td>10000.000000</td>\n",
       "      <td>10000.000000</td>\n",
       "      <td>10000.000000</td>\n",
       "    </tr>\n",
       "    <tr>\n",
       "      <th>mean</th>\n",
       "      <td>4.992900</td>\n",
       "      <td>69.445700</td>\n",
       "      <td>0.494800</td>\n",
       "      <td>6.530600</td>\n",
       "      <td>4.583300</td>\n",
       "      <td>55.224800</td>\n",
       "    </tr>\n",
       "    <tr>\n",
       "      <th>std</th>\n",
       "      <td>2.589309</td>\n",
       "      <td>17.343152</td>\n",
       "      <td>0.499998</td>\n",
       "      <td>1.695863</td>\n",
       "      <td>2.867348</td>\n",
       "      <td>19.212558</td>\n",
       "    </tr>\n",
       "    <tr>\n",
       "      <th>min</th>\n",
       "      <td>1.000000</td>\n",
       "      <td>40.000000</td>\n",
       "      <td>0.000000</td>\n",
       "      <td>4.000000</td>\n",
       "      <td>0.000000</td>\n",
       "      <td>10.000000</td>\n",
       "    </tr>\n",
       "    <tr>\n",
       "      <th>25%</th>\n",
       "      <td>3.000000</td>\n",
       "      <td>54.000000</td>\n",
       "      <td>0.000000</td>\n",
       "      <td>5.000000</td>\n",
       "      <td>2.000000</td>\n",
       "      <td>40.000000</td>\n",
       "    </tr>\n",
       "    <tr>\n",
       "      <th>50%</th>\n",
       "      <td>5.000000</td>\n",
       "      <td>69.000000</td>\n",
       "      <td>0.000000</td>\n",
       "      <td>7.000000</td>\n",
       "      <td>5.000000</td>\n",
       "      <td>55.000000</td>\n",
       "    </tr>\n",
       "    <tr>\n",
       "      <th>75%</th>\n",
       "      <td>7.000000</td>\n",
       "      <td>85.000000</td>\n",
       "      <td>1.000000</td>\n",
       "      <td>8.000000</td>\n",
       "      <td>7.000000</td>\n",
       "      <td>71.000000</td>\n",
       "    </tr>\n",
       "    <tr>\n",
       "      <th>max</th>\n",
       "      <td>9.000000</td>\n",
       "      <td>99.000000</td>\n",
       "      <td>1.000000</td>\n",
       "      <td>9.000000</td>\n",
       "      <td>9.000000</td>\n",
       "      <td>100.000000</td>\n",
       "    </tr>\n",
       "  </tbody>\n",
       "</table>\n",
       "</div>"
      ],
      "text/plain": [
       "       Hours Studied  Previous Scores  Extracurricular Activities  \\\n",
       "count   10000.000000     10000.000000                10000.000000   \n",
       "mean        4.992900        69.445700                    0.494800   \n",
       "std         2.589309        17.343152                    0.499998   \n",
       "min         1.000000        40.000000                    0.000000   \n",
       "25%         3.000000        54.000000                    0.000000   \n",
       "50%         5.000000        69.000000                    0.000000   \n",
       "75%         7.000000        85.000000                    1.000000   \n",
       "max         9.000000        99.000000                    1.000000   \n",
       "\n",
       "        Sleep Hours  Sample Question Papers Practiced  Performance Index  \n",
       "count  10000.000000                      10000.000000       10000.000000  \n",
       "mean       6.530600                          4.583300          55.224800  \n",
       "std        1.695863                          2.867348          19.212558  \n",
       "min        4.000000                          0.000000          10.000000  \n",
       "25%        5.000000                          2.000000          40.000000  \n",
       "50%        7.000000                          5.000000          55.000000  \n",
       "75%        8.000000                          7.000000          71.000000  \n",
       "max        9.000000                          9.000000         100.000000  "
      ]
     },
     "execution_count": 132,
     "metadata": {},
     "output_type": "execute_result"
    }
   ],
   "source": [
    "X[\"Extracurricular Activities\"] = X[\"Extracurricular Activities\"].map(lambda x: 1 if x == \"Yes\" else 0)\n",
    "X.describe()"
   ]
  },
  {
   "cell_type": "code",
   "execution_count": 146,
   "id": "7c6bd7e7-dd18-4fbf-8fc1-127dcc775c78",
   "metadata": {},
   "outputs": [
    {
     "data": {
      "text/plain": [
       "<Axes: >"
      ]
     },
     "execution_count": 146,
     "metadata": {},
     "output_type": "execute_result"
    },
    {
     "data": {
      "image/png": "[encoded data removed]",
      "text/plain": [
       "<Figure size 640x480 with 2 Axes>"
      ]
     },
     "metadata": {},
     "output_type": "display_data"
    }
   ],
   "source": [
    "import seaborn as sns\n",
    "import matplotlib.pyplot as plt\n",
    "\n",
    "\n",
    "sns.heatmap(X.corr())#sad picture"
   ]
  },
  {
   "cell_type": "code",
   "execution_count": 134,
   "id": "860b0c09-2c25-45cf-bbed-5f5aecc792c0",
   "metadata": {},
   "outputs": [],
   "source": [
    "y = X.pop(\"Performance Index\")\n",
    "X_train, X_test, y_train, y_test = train_test_split(X, y, train_size=0.8, random_state = 42)"
   ]
  },
  {
   "cell_type": "code",
   "execution_count": 135,
   "id": "eac0b6ef-2c25-4602-94fb-c7edfaa95445",
   "metadata": {},
   "outputs": [],
   "source": [
    "from sklearn.pipeline import Pipeline\n",
    "from sklearn.preprocessing import OneHotEncoder\n",
    "from sklearn.preprocessing import StandardScaler\n",
    "from sklearn.compose import ColumnTransformer\n",
    "from sklearn.linear_model import LinearRegression\n",
    "from sklearn.metrics import mean_squared_error as mse\n",
    "\n",
    "num_cols = [x for x in X_train.columns if X_train[x].dtype in [ \"float64\", \"int64\"]]\n",
    "\n",
    "preprocessor = ColumnTransformer(\n",
    "    transformers=([ ('num', StandardScaler(), num_cols)]))\n",
    "\n",
    "my_pipeline = Pipeline(steps=[('preprocessor', preprocessor),\n",
    "                              ('model', LinearRegression())\n",
    "                             ])"
   ]
  },
  {
   "cell_type": "code",
   "execution_count": 136,
   "id": "01d9361b-0a6e-4b62-85e1-61ece391d122",
   "metadata": {},
   "outputs": [
    {
     "name": "stdout",
     "output_type": "stream",
     "text": [
      "baseline linreg MSE: 4.082628398521845\n"
     ]
    }
   ],
   "source": [
    "my_pipeline.fit(X_train, y_train)\n",
    "preds = my_pipeline.predict(X_test)\n",
    "\n",
    "print(f\"baseline linreg MSE: {mse(y_test, preds)}\")"
   ]
  },
  {
   "cell_type": "code",
   "execution_count": 137,
   "id": "06ad19bb-dc8a-4035-8b43-3f133886c240",
   "metadata": {},
   "outputs": [
    {
     "data": {
      "text/plain": [
       "[(7.401340794046573, 'Hours Studied'),\n",
       " (17.63727126717766, 'Previous Scores'),\n",
       " (0.304290755963921, 'Extracurricular Activities'),\n",
       " (0.8100310701229987, 'Sleep Hours'),\n",
       " (0.5488417139901891, 'Sample Question Papers Practiced')]"
      ]
     },
     "execution_count": 137,
     "metadata": {},
     "output_type": "execute_result"
    }
   ],
   "source": [
    "coefs = my_pipeline[\"model\"].coef_\n",
    "list(zip(coefs, X_train.columns))"
   ]
  },
  {
   "cell_type": "code",
   "execution_count": 138,
   "id": "fdb64d51-77ad-4213-9219-9cfc8dd0ce80",
   "metadata": {},
   "outputs": [],
   "source": [
    "#Hours studied and previous scores are impostrant"
   ]
  },
  {
   "cell_type": "code",
   "execution_count": 139,
   "id": "7d20f799-1210-4812-b5f1-7eba396748de",
   "metadata": {},
   "outputs": [
    {
     "name": "stdout",
     "output_type": "stream",
     "text": [
      "Lasso MSE: 4.175297230950129\n"
     ]
    }
   ],
   "source": [
    "from sklearn.linear_model import Lasso\n",
    "\n",
    "my_pipeline = Pipeline(steps=[('preprocessor', preprocessor),\n",
    "                              ('model', Lasso(alpha = 0.1))\n",
    "                             ])\n",
    "my_pipeline.fit(X_train, y_train)\n",
    "preds = my_pipeline.predict(X_test)\n",
    "\n",
    "print(f\"Lasso MSE: {mse(y_test, preds)}\")"
   ]
  },
  {
   "cell_type": "code",
   "execution_count": 140,
   "id": "003cb353-39e3-46f0-9289-880f16d0673a",
   "metadata": {},
   "outputs": [
    {
     "data": {
      "text/plain": [
       "[(7.302708921769363, 'Hours Studied'),\n",
       " (17.53749059906384, 'Previous Scores'),\n",
       " (0.20274621873749016, 'Extracurricular Activities'),\n",
       " (0.7086996919640272, 'Sleep Hours'),\n",
       " (0.4512494897378173, 'Sample Question Papers Practiced')]"
      ]
     },
     "execution_count": 140,
     "metadata": {},
     "output_type": "execute_result"
    }
   ],
   "source": [
    "coefs = my_pipeline[\"model\"].coef_\n",
    "list(zip(coefs, X_train.columns)) #every feature is important"
   ]
  },
  {
   "cell_type": "code",
   "execution_count": 141,
   "id": "2ca22a96-cc9c-47b1-8077-553ff4ffb7c4",
   "metadata": {},
   "outputs": [
    {
     "name": "stdout",
     "output_type": "stream",
     "text": [
      "Lasso MSE: 4.081373174292992\n"
     ]
    },
    {
     "data": {
      "text/plain": [
       "[(7.417422461277393, 'Hours Studied'),\n",
       " (17.637354836013607, 'Previous Scores'),\n",
       " (0.30426055806485713, 'Extracurricular Activities'),\n",
       " (0.8014311590486597, 'Sleep Hours'),\n",
       " (0.5488827103392978, 'Sample Question Papers Practiced'),\n",
       " (-0.018853337331314217, 'Hours Studied / Sleep Hours')]"
      ]
     },
     "execution_count": 141,
     "metadata": {},
     "output_type": "execute_result"
    }
   ],
   "source": [
    "#lets add new features\n",
    "X_train[\"Hours Studied / Sleep Hours\"] = X_train['Hours Studied'] / X_train['Sleep Hours']\n",
    "X_test[\"Hours Studied / Sleep Hours\"] = X_test['Hours Studied'] / X_test['Sleep Hours']\n",
    "\n",
    "num_cols = [x for x in X_train.columns if X_train[x].dtype in [ \"float64\", \"int64\"]]\n",
    "\n",
    "preprocessor = ColumnTransformer(\n",
    "    transformers=([ ('num', StandardScaler(), num_cols)]))\n",
    "\n",
    "my_pipeline = Pipeline(steps=[('preprocessor', preprocessor),\n",
    "                              ('model', LinearRegression())\n",
    "                             ])\n",
    "\n",
    "my_pipeline.fit(X_train, y_train)\n",
    "preds = my_pipeline.predict(X_test)\n",
    "\n",
    "print(f\"Lasso MSE: {mse(y_test, preds)}\")\n",
    "\n",
    "coefs = my_pipeline[\"model\"].coef_\n",
    "list(zip(coefs, X_train.columns))"
   ]
  },
  {
   "cell_type": "code",
   "execution_count": 142,
   "id": "12249c34-b2a4-4462-b511-864b4e50de9c",
   "metadata": {},
   "outputs": [],
   "source": [
    "X_ = X_train.copy()\n",
    "y_ = y_train.copy()\n",
    "X_train, X_valid, y_train, y_valid = train_test_split(X_, y_, train_size = 0.8)"
   ]
  },
  {
   "cell_type": "code",
   "execution_count": 143,
   "id": "4b86234a-b154-4259-9ca2-3314f418fdc3",
   "metadata": {},
   "outputs": [
    {
     "data": {
      "image/png": "[encoded data removed]",
      "text/plain": [
       "<Figure size 640x480 with 1 Axes>"
      ]
     },
     "metadata": {},
     "output_type": "display_data"
    }
   ],
   "source": [
    "import torch\n",
    "import torch.nn as nn\n",
    "from torch.nn import MSELoss\n",
    "from torch.optim import Adam\n",
    "import matplotlib.pyplot as plt\n",
    "import numpy as np\n",
    "\n",
    "class FeedForwardNN(nn.Module):\n",
    "  def __init__(self, in_features, out_features = 1,  hiden_layer = 128):\n",
    "    super().__init__()\n",
    "    self.ffn = nn.Sequential(nn.Linear(in_features, hiden_layer), nn.LeakyReLU(),\n",
    "                             nn.Linear(hiden_layer, hiden_layer), nn.LeakyReLU(), \n",
    "                             nn.Linear(hiden_layer, hiden_layer), nn.LeakyReLU(),\n",
    "                             nn.Linear(hiden_layer, hiden_layer), nn.LeakyReLU(),\n",
    "                             nn.Linear(hiden_layer, hiden_layer), nn.LeakyReLU(),\n",
    "                             nn.Linear(hiden_layer, out_features))\n",
    "  def forward(self,x):\n",
    "    return self.ffn(x).squeeze()\n",
    "\n",
    "preprocessor = ColumnTransformer(\n",
    "    transformers=[('num', StandardScaler(), X_train.columns)])\n",
    "X_train_tens = torch.tensor(preprocessor.fit_transform(X_train)).float()\n",
    "y_train_tens = torch.tensor(y_train.values).float()\n",
    "X_valid_tens = torch.tensor(preprocessor.transform(X_valid)).float()\n",
    "y_valid_tens = torch.tensor(y_valid.values).float()\n",
    "\n",
    "\n",
    "model = FeedForwardNN(in_features = X_train_tens.shape[1])\n",
    "optimizer = Adam(model.parameters(), lr = 0.001)\n",
    "loss_fn = MSELoss()\n",
    "\n",
    "train_stats = []\n",
    "valid_stats = []\n",
    "epochs = []\n",
    "\n",
    "for epoch in range(1000):\n",
    "\n",
    "  model.train()\n",
    "  optimizer.zero_grad()\n",
    "  loss = loss_fn(model(X_train_tens), y_train_tens)\n",
    "  loss.backward()\n",
    "  optimizer.step()\n",
    "  train_stats.append(loss.item())\n",
    "    \n",
    "  model.eval()\n",
    "  with torch.no_grad():\n",
    "    loss = loss_fn(model(X_valid_tens), y_valid_tens)\n",
    "    valid_stats.append(loss.item())\n",
    "  epochs.append(epoch)\n",
    "\n",
    "plt.plot(epochs, train_stats, label=\"train\")\n",
    "plt.plot(epochs, valid_stats, label=\"valid\")\n",
    "plt.xlabel(\"epochs\")\n",
    "plt.ylabel(\"MSELoss\")\n",
    "plt.legend()\n",
    "plt.show()"
   ]
  },
  {
   "cell_type": "code",
   "execution_count": 145,
   "id": "4c605531-19ad-4276-90c4-86e5ae147892",
   "metadata": {},
   "outputs": [
    {
     "name": "stdout",
     "output_type": "stream",
     "text": [
      "FFN MSE: 4.399898384910447\n"
     ]
    }
   ],
   "source": [
    "preds = model(torch.tensor(preprocessor.transform(X_test)).float()).detach().numpy()\n",
    "\n",
    "print(f\"FFN MSE: {mse(y_test, preds)}\") # give no upgrade"
   ]
  }
 ],
 "metadata": {
  "kernelspec": {
   "display_name": "Python 3 (ipykernel)",
   "language": "python",
   "name": "python3"
  },
  "language_info": {
   "codemirror_mode": {
    "name": "ipython",
    "version": 3
   },
   "file_extension": ".py",
   "mimetype": "text/x-python",
   "name": "python",
   "nbconvert_exporter": "python",
   "pygments_lexer": "ipython3",
   "version": "3.12.0"
  }
 },
 "nbformat": 4,
 "nbformat_minor": 5
}
