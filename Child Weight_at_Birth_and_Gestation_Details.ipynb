{
 "cells": [
  {
   "cell_type": "code",
   "execution_count": 152,
   "id": "73289d0c-64ca-468f-97cc-44055a4d5ca8",
   "metadata": {},
   "outputs": [
    {
     "data": {
      "text/plain": [
       "bwt           0\n",
       "gestation    13\n",
       "parity        0\n",
       "age           2\n",
       "height       22\n",
       "weight       36\n",
       "smoke        10\n",
       "dtype: int64"
      ]
     },
     "execution_count": 152,
     "metadata": {},
     "output_type": "execute_result"
    }
   ],
   "source": [
    "import pandas as pd\n",
    "from sklearn.model_selection import train_test_split\n",
    "\n",
    "X = pd.read_csv(\"babies.csv\").drop(\"case\", axis = 1)\n",
    "\n",
    "X.isna().sum()"
   ]
  },
  {
   "cell_type": "code",
   "execution_count": 153,
   "id": "d63e384e-81b9-4a9e-aa6c-624c05472298",
   "metadata": {},
   "outputs": [
    {
     "data": {
      "text/html": [
       "<div>\n",
       "<style scoped>\n",
       "    .dataframe tbody tr th:only-of-type {\n",
       "        vertical-align: middle;\n",
       "    }\n",
       "\n",
       "    .dataframe tbody tr th {\n",
       "        vertical-align: top;\n",
       "    }\n",
       "\n",
       "    .dataframe thead th {\n",
       "        text-align: right;\n",
       "    }\n",
       "</style>\n",
       "<table border=\"1\" class=\"dataframe\">\n",
       "  <thead>\n",
       "    <tr style=\"text-align: right;\">\n",
       "      <th></th>\n",
       "      <th>bwt</th>\n",
       "      <th>gestation</th>\n",
       "      <th>parity</th>\n",
       "      <th>age</th>\n",
       "      <th>height</th>\n",
       "      <th>weight</th>\n",
       "      <th>smoke</th>\n",
       "    </tr>\n",
       "  </thead>\n",
       "  <tbody>\n",
       "    <tr>\n",
       "      <th>count</th>\n",
       "      <td>1174.000000</td>\n",
       "      <td>1174.000000</td>\n",
       "      <td>1174.000000</td>\n",
       "      <td>1174.000000</td>\n",
       "      <td>1174.000000</td>\n",
       "      <td>1174.000000</td>\n",
       "      <td>1174.000000</td>\n",
       "    </tr>\n",
       "    <tr>\n",
       "      <th>mean</th>\n",
       "      <td>119.462521</td>\n",
       "      <td>279.101363</td>\n",
       "      <td>0.262351</td>\n",
       "      <td>27.228279</td>\n",
       "      <td>64.049404</td>\n",
       "      <td>128.478705</td>\n",
       "      <td>0.390971</td>\n",
       "    </tr>\n",
       "    <tr>\n",
       "      <th>std</th>\n",
       "      <td>18.328671</td>\n",
       "      <td>16.010305</td>\n",
       "      <td>0.440100</td>\n",
       "      <td>5.817839</td>\n",
       "      <td>2.526102</td>\n",
       "      <td>20.734282</td>\n",
       "      <td>0.488176</td>\n",
       "    </tr>\n",
       "    <tr>\n",
       "      <th>min</th>\n",
       "      <td>55.000000</td>\n",
       "      <td>148.000000</td>\n",
       "      <td>0.000000</td>\n",
       "      <td>15.000000</td>\n",
       "      <td>53.000000</td>\n",
       "      <td>87.000000</td>\n",
       "      <td>0.000000</td>\n",
       "    </tr>\n",
       "    <tr>\n",
       "      <th>25%</th>\n",
       "      <td>108.000000</td>\n",
       "      <td>272.000000</td>\n",
       "      <td>0.000000</td>\n",
       "      <td>23.000000</td>\n",
       "      <td>62.000000</td>\n",
       "      <td>114.250000</td>\n",
       "      <td>0.000000</td>\n",
       "    </tr>\n",
       "    <tr>\n",
       "      <th>50%</th>\n",
       "      <td>120.000000</td>\n",
       "      <td>280.000000</td>\n",
       "      <td>0.000000</td>\n",
       "      <td>26.000000</td>\n",
       "      <td>64.000000</td>\n",
       "      <td>125.000000</td>\n",
       "      <td>0.000000</td>\n",
       "    </tr>\n",
       "    <tr>\n",
       "      <th>75%</th>\n",
       "      <td>131.000000</td>\n",
       "      <td>288.000000</td>\n",
       "      <td>1.000000</td>\n",
       "      <td>31.000000</td>\n",
       "      <td>66.000000</td>\n",
       "      <td>139.000000</td>\n",
       "      <td>1.000000</td>\n",
       "    </tr>\n",
       "    <tr>\n",
       "      <th>max</th>\n",
       "      <td>176.000000</td>\n",
       "      <td>353.000000</td>\n",
       "      <td>1.000000</td>\n",
       "      <td>45.000000</td>\n",
       "      <td>72.000000</td>\n",
       "      <td>250.000000</td>\n",
       "      <td>1.000000</td>\n",
       "    </tr>\n",
       "  </tbody>\n",
       "</table>\n",
       "</div>"
      ],
      "text/plain": [
       "               bwt    gestation       parity          age       height  \\\n",
       "count  1174.000000  1174.000000  1174.000000  1174.000000  1174.000000   \n",
       "mean    119.462521   279.101363     0.262351    27.228279    64.049404   \n",
       "std      18.328671    16.010305     0.440100     5.817839     2.526102   \n",
       "min      55.000000   148.000000     0.000000    15.000000    53.000000   \n",
       "25%     108.000000   272.000000     0.000000    23.000000    62.000000   \n",
       "50%     120.000000   280.000000     0.000000    26.000000    64.000000   \n",
       "75%     131.000000   288.000000     1.000000    31.000000    66.000000   \n",
       "max     176.000000   353.000000     1.000000    45.000000    72.000000   \n",
       "\n",
       "            weight        smoke  \n",
       "count  1174.000000  1174.000000  \n",
       "mean    128.478705     0.390971  \n",
       "std      20.734282     0.488176  \n",
       "min      87.000000     0.000000  \n",
       "25%     114.250000     0.000000  \n",
       "50%     125.000000     0.000000  \n",
       "75%     139.000000     1.000000  \n",
       "max     250.000000     1.000000  "
      ]
     },
     "execution_count": 153,
     "metadata": {},
     "output_type": "execute_result"
    }
   ],
   "source": [
    "#There are few na, lets drop them\n",
    "X = X.dropna(axis = 0)\n",
    "\n",
    "X.describe()# we have no outliers "
   ]
  },
  {
   "cell_type": "code",
   "execution_count": 154,
   "id": "75ca265d-3169-4be5-ae74-1587df46e6ad",
   "metadata": {},
   "outputs": [],
   "source": [
    "y = X.pop(\"bwt\")\n",
    "\n",
    "X_train, X_test, y_train, y_test = train_test_split(X, y, train_size = 0.8)"
   ]
  },
  {
   "cell_type": "code",
   "execution_count": 155,
   "id": "40c5a77f-5d42-43f4-9733-eb72e8bb30e6",
   "metadata": {},
   "outputs": [],
   "source": [
    "from sklearn.compose import ColumnTransformer\n",
    "from sklearn.pipeline import Pipeline\n",
    "from sklearn.linear_model import LinearRegression\n",
    "from sklearn.preprocessing import StandardScaler\n",
    "\n",
    "\n",
    "preprocessor = ColumnTransformer(\n",
    "    transformers=[('num', StandardScaler(), X_train.columns)])\n",
    "\n",
    "my_pipeline = Pipeline(steps=[('preprocessor', preprocessor),\n",
    "                              ('model', LinearRegression())\n",
    "                             ])"
   ]
  },
  {
   "cell_type": "code",
   "execution_count": 156,
   "id": "71e51b98-6a44-4d54-8420-55abb97b0dbf",
   "metadata": {},
   "outputs": [
    {
     "name": "stdout",
     "output_type": "stream",
     "text": [
      "baseline linreg MAE: 12.545006820154121\n"
     ]
    }
   ],
   "source": [
    "from sklearn.metrics import mean_absolute_error as mae\n",
    "my_pipeline.fit(X_train, y_train)\n",
    "\n",
    "preds = my_pipeline.predict(X_test)\n",
    "\n",
    "print(f\"baseline linreg MAE: {mae(y_test, preds)}\")"
   ]
  },
  {
   "cell_type": "code",
   "execution_count": 157,
   "id": "2d66e97d-75eb-4bbb-b98c-4fb813dde1ec",
   "metadata": {},
   "outputs": [
    {
     "data": {
      "text/plain": [
       "[(6.795404182355275, 'gestation'),\n",
       " (-1.2696290959026348, 'parity'),\n",
       " (-0.015498275629056714, 'age'),\n",
       " (3.1919802518950626, 'height'),\n",
       " (0.966205333468521, 'weight'),\n",
       " (-4.456412712578199, 'smoke')]"
      ]
     },
     "execution_count": 157,
     "metadata": {},
     "output_type": "execute_result"
    }
   ],
   "source": [
    "coefs = my_pipeline[\"model\"].coef_\n",
    "\n",
    "list(zip(coefs, X_train.columns)) #It shows quite predictable results. Lets use Lasso to do some feature selection "
   ]
  },
  {
   "cell_type": "code",
   "execution_count": 158,
   "id": "8b07fc12-6604-4767-ae66-d8e2ccc0d9bc",
   "metadata": {},
   "outputs": [
    {
     "name": "stdout",
     "output_type": "stream",
     "text": [
      "baseline Lasso MAE: 12.542180526296706\n"
     ]
    }
   ],
   "source": [
    "from sklearn.linear_model import Lasso\n",
    "\n",
    "preprocessor = ColumnTransformer(\n",
    "    transformers=[('num', StandardScaler(), X_train.columns)])\n",
    "\n",
    "my_pipeline = Pipeline(steps=[('preprocessor', preprocessor),\n",
    "                              ('model', Lasso(alpha=0.2))\n",
    "                             ])\n",
    "\n",
    "my_pipeline.fit(X_train, y_train)\n",
    "\n",
    "preds = my_pipeline.predict(X_test)\n",
    "\n",
    "print(f\"baseline Lasso MAE: {mae(y_test, preds)}\")"
   ]
  },
  {
   "cell_type": "code",
   "execution_count": 159,
   "id": "0987b19e-6549-405a-ae43-40daa5ad8556",
   "metadata": {},
   "outputs": [
    {
     "data": {
      "text/plain": [
       "[(6.609799018160174, 'gestation'),\n",
       " (-1.0538859481659446, 'parity'),\n",
       " (0.0, 'age'),\n",
       " (3.042701953852974, 'height'),\n",
       " (0.8752954592502337, 'weight'),\n",
       " (-4.277981957230473, 'smoke')]"
      ]
     },
     "execution_count": 159,
     "metadata": {},
     "output_type": "execute_result"
    }
   ],
   "source": [
    "coefs = my_pipeline[\"model\"].coef_\n",
    "list(zip(coefs, X_train.columns))"
   ]
  },
  {
   "cell_type": "code",
   "execution_count": 160,
   "id": "e310609e-45d7-43ea-b605-04b429e8c166",
   "metadata": {},
   "outputs": [
    {
     "name": "stdout",
     "output_type": "stream",
     "text": [
      "MAE: 12.545006820154121\n"
     ]
    }
   ],
   "source": [
    "#Thus we can drop age column\n",
    "\n",
    "preprocessor = ColumnTransformer(\n",
    "    transformers=[('droout', \"drop\", [\"age\"]), ('num', StandardScaler(), X_train.columns)])\n",
    "\n",
    "my_pipeline = Pipeline(steps=[('preprocessor', preprocessor),\n",
    "                              ('model', LinearRegression())\n",
    "                             ])\n",
    "my_pipeline.fit(X_train, y_train)\n",
    "\n",
    "preds = my_pipeline.predict(X_test)\n",
    "\n",
    "print(f\"MAE: {mae(y_test, preds)}\") # didnt improve "
   ]
  },
  {
   "cell_type": "code",
   "execution_count": 161,
   "id": "c042939b-c7d0-4cb1-86b6-bd6fa5fc52bb",
   "metadata": {},
   "outputs": [],
   "source": [
    "#Lets use smth more complicated: ffn\n",
    "X_ = X_train.copy()\n",
    "y_ = y_train.copy()\n",
    "X_train, X_valid, y_train, y_valid = train_test_split(X_, y_, train_size = 0.8)"
   ]
  },
  {
   "cell_type": "code",
   "execution_count": 170,
   "id": "8884be6f-3bad-456d-b698-60654a7b7966",
   "metadata": {},
   "outputs": [
    {
     "data": {
      "image/png": "[encoded data removed]",
      "text/plain": [
       "<Figure size 640x480 with 1 Axes>"
      ]
     },
     "metadata": {},
     "output_type": "display_data"
    }
   ],
   "source": [
    "import torch\n",
    "import torch.nn as nn\n",
    "from torch.nn import L1Loss\n",
    "from torch.optim import Adam\n",
    "import matplotlib.pyplot as plt\n",
    "import numpy as np\n",
    "\n",
    "class FeedForwardNN(nn.Module):\n",
    "  def __init__(self, in_features, out_features = 1,  hiden_layer = 32):\n",
    "    super().__init__()\n",
    "    self.ffn = nn.Sequential(nn.Linear(in_features, hiden_layer), nn.LeakyReLU(),\n",
    "                             nn.Linear(hiden_layer, hiden_layer), nn.LeakyReLU(), \n",
    "                             nn.Linear(hiden_layer, hiden_layer), nn.LeakyReLU(),\n",
    "                             nn.Linear(hiden_layer, hiden_layer), nn.LeakyReLU(),\n",
    "                             nn.Linear(hiden_layer, hiden_layer), nn.LeakyReLU(),\n",
    "                             nn.Linear(hiden_layer, out_features))\n",
    "  def forward(self,x):\n",
    "    return self.ffn(x).squeeze()\n",
    "\n",
    "preprocessor = ColumnTransformer(\n",
    "    transformers=[('num', StandardScaler(), X_train.columns)])\n",
    "X_train_tens = torch.tensor(preprocessor.fit_transform(X_train)).float()\n",
    "y_train_tens = torch.tensor(y_train.values).float()\n",
    "X_valid_tens = torch.tensor(preprocessor.transform(X_valid)).float()\n",
    "y_valid_tens = torch.tensor(y_valid.values).float()\n",
    "\n",
    "\n",
    "model = FeedForwardNN(in_features = X_train_tens.shape[1])\n",
    "optimizer = Adam(model.parameters(), lr = 0.001)\n",
    "loss_fn = L1Loss()\n",
    "\n",
    "train_stats = []\n",
    "valid_stats = []\n",
    "epochs = []\n",
    "\n",
    "for epoch in range(1000):\n",
    "\n",
    "  model.train()\n",
    "  optimizer.zero_grad()\n",
    "  loss = loss_fn(model(X_train_tens), y_train_tens)\n",
    "  loss.backward()\n",
    "  optimizer.step()\n",
    "  train_stats.append(loss.item())\n",
    "    \n",
    "  model.eval()\n",
    "  with torch.no_grad():\n",
    "    loss = loss_fn(model(X_valid_tens), y_valid_tens)\n",
    "    valid_stats.append(loss.item())\n",
    "  epochs.append(epoch)\n",
    "\n",
    "plt.plot(epochs, train_stats, label=\"train\")\n",
    "plt.plot(epochs, valid_stats, label=\"valid\")\n",
    "plt.xlabel(\"epochs\")\n",
    "plt.ylabel(\"MAELoss\")\n",
    "plt.legend()\n",
    "plt.show()"
   ]
  },
  {
   "cell_type": "code",
   "execution_count": 171,
   "id": "57ad94e8-1cc9-454f-b58a-f4bd48c5cccc",
   "metadata": {},
   "outputs": [
    {
     "name": "stdout",
     "output_type": "stream",
     "text": [
      "FFN MAE: 12.678756713867188\n"
     ]
    }
   ],
   "source": [
    "preds = model(torch.tensor(preprocessor.transform(X_test)).float()).detach().numpy()\n",
    "\n",
    "print(f\"FFN MAE: {mae(y_test, preds)}\") # give small but no significance upgrade"
   ]
  },
  {
   "cell_type": "code",
   "execution_count": 172,
   "id": "cadab933-1ed7-4b91-b60c-9c90ac1949d1",
   "metadata": {},
   "outputs": [
    {
     "name": "stdout",
     "output_type": "stream",
     "text": [
      "FFN MAE: 13.009149206834502\n"
     ]
    }
   ],
   "source": [
    "from catboost import CatBoostRegressor\n",
    "\n",
    "model = CatBoostRegressor(verbose = 0)\n",
    "model.fit(X_train, y_train)\n",
    "\n",
    "preds = model.predict(X_test)\n",
    "print(f\"FFN MAE: {mae(y_test, preds)}\") # perfoms poor"
   ]
  },
  {
   "cell_type": "code",
   "execution_count": null,
   "id": "ca4be681-9541-4fd0-9695-cb91d3455acf",
   "metadata": {},
   "outputs": [],
   "source": []
  },
  {
   "cell_type": "code",
   "execution_count": null,
   "id": "8243d790-3267-481e-bdcd-554e84679fdc",
   "metadata": {},
   "outputs": [],
   "source": []
  }
 ],
 "metadata": {
  "kernelspec": {
   "display_name": "Python 3 (ipykernel)",
   "language": "python",
   "name": "python3"
  },
  "language_info": {
   "codemirror_mode": {
    "name": "ipython",
    "version": 3
   },
   "file_extension": ".py",
   "mimetype": "text/x-python",
   "name": "python",
   "nbconvert_exporter": "python",
   "pygments_lexer": "ipython3",
   "version": "3.12.0"
  }
 },
 "nbformat": 4,
 "nbformat_minor": 5
}
